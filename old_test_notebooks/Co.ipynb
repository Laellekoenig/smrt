{
 "cells": [
  {
   "cell_type": "code",
   "execution_count": 49,
   "id": "31d6c437-13f4-4b87-9129-2ba8108f347c",
   "metadata": {},
   "outputs": [],
   "source": [
    "import pandas as pd\n",
    "import numpy as np\n",
    "import os\n",
    "from sklearn import preprocessing"
   ]
  },
  {
   "cell_type": "code",
   "execution_count": 9,
   "id": "82b5221c-49c6-4855-a6fa-b54efdf50008",
   "metadata": {},
   "outputs": [
    {
     "data": {
      "text/plain": [
       "'/Users/mgb/Desktop/AI4SG/smrt/old_test_notebooks'"
      ]
     },
     "execution_count": 9,
     "metadata": {},
     "output_type": "execute_result"
    }
   ],
   "source": [
    "os.getcwd()"
   ]
  },
  {
   "cell_type": "code",
   "execution_count": 19,
   "id": "340d7ddc-c086-4b68-983b-c1aebf567cd1",
   "metadata": {},
   "outputs": [],
   "source": [
    "df1 = pd.read_csv(\"../datasets/luftklima_reformatted.csv\")\n",
    "df2 = pd.read_csv(\"../datasets/verkehrszählungen_reformatted.csv\")"
   ]
  },
  {
   "cell_type": "code",
   "execution_count": 22,
   "id": "adbe1330-b1d8-4848-a265-9fb11e7f01a5",
   "metadata": {},
   "outputs": [],
   "source": [
    "df1 = df1[df1.Datum == \"2021-08-01\"]"
   ]
  },
  {
   "cell_type": "code",
   "execution_count": 21,
   "id": "fef0d0c5-eb1b-4d70-a4fb-e4f5077d7210",
   "metadata": {},
   "outputs": [],
   "source": [
    "df2 = df2[df2.Date == \"01.08.2021\"]"
   ]
  },
  {
   "cell_type": "code",
   "execution_count": 24,
   "id": "b8a21626-07ce-4318-a6e5-37fbc9aaae12",
   "metadata": {},
   "outputs": [],
   "source": [
    "drei2 = df2[df2[\"Geo Point\"] == \"47.5707346457,7.58226721123\"]"
   ]
  },
  {
   "cell_type": "code",
   "execution_count": 33,
   "id": "eccdb3ea-e8c3-4a7f-8d0d-f93d55a74d10",
   "metadata": {},
   "outputs": [],
   "source": [
    "drei2 = drei2.groupby(\"TimeFrom\").sum()"
   ]
  },
  {
   "cell_type": "code",
   "execution_count": 28,
   "id": "51e9ce4f-b440-4720-bd5b-2f64117404be",
   "metadata": {},
   "outputs": [],
   "source": [
    "drei1 = df1[df1.Name == \"Dreirosenbrücke\"]"
   ]
  },
  {
   "cell_type": "code",
   "execution_count": 30,
   "id": "cd3e93ce-fd5f-49fc-be5e-f83d0947ef2a",
   "metadata": {},
   "outputs": [
    {
     "data": {
      "text/plain": [
       "24"
      ]
     },
     "execution_count": 30,
     "metadata": {},
     "output_type": "execute_result"
    }
   ],
   "source": [
    "len(drei1)"
   ]
  },
  {
   "cell_type": "code",
   "execution_count": 34,
   "id": "79a73825-3635-43e3-9f8e-cd4ba51468a7",
   "metadata": {},
   "outputs": [
    {
     "data": {
      "text/plain": [
       "24"
      ]
     },
     "execution_count": 34,
     "metadata": {},
     "output_type": "execute_result"
    }
   ],
   "source": [
    "len(drei2)"
   ]
  },
  {
   "cell_type": "code",
   "execution_count": 35,
   "id": "e5c1502d-f8bb-449f-8be9-e4bf91917319",
   "metadata": {},
   "outputs": [
    {
     "data": {
      "text/html": [
       "<div>\n",
       "<style scoped>\n",
       "    .dataframe tbody tr th:only-of-type {\n",
       "        vertical-align: middle;\n",
       "    }\n",
       "\n",
       "    .dataframe tbody tr th {\n",
       "        vertical-align: top;\n",
       "    }\n",
       "\n",
       "    .dataframe thead th {\n",
       "        text-align: right;\n",
       "    }\n",
       "</style>\n",
       "<table border=\"1\" class=\"dataframe\">\n",
       "  <thead>\n",
       "    <tr style=\"text-align: right;\">\n",
       "      <th></th>\n",
       "      <th>Unnamed: 0</th>\n",
       "      <th>Total</th>\n",
       "      <th>MR</th>\n",
       "      <th>PW</th>\n",
       "      <th>PW+</th>\n",
       "      <th>Lief</th>\n",
       "      <th>Lief+</th>\n",
       "      <th>Lief+Aufl.</th>\n",
       "      <th>LW</th>\n",
       "      <th>LW+</th>\n",
       "      <th>Sattelzug</th>\n",
       "      <th>Bus</th>\n",
       "      <th>andere</th>\n",
       "      <th>Year</th>\n",
       "      <th>Latitude</th>\n",
       "      <th>Longitude</th>\n",
       "    </tr>\n",
       "    <tr>\n",
       "      <th>TimeFrom</th>\n",
       "      <th></th>\n",
       "      <th></th>\n",
       "      <th></th>\n",
       "      <th></th>\n",
       "      <th></th>\n",
       "      <th></th>\n",
       "      <th></th>\n",
       "      <th></th>\n",
       "      <th></th>\n",
       "      <th></th>\n",
       "      <th></th>\n",
       "      <th></th>\n",
       "      <th></th>\n",
       "      <th></th>\n",
       "      <th></th>\n",
       "      <th></th>\n",
       "    </tr>\n",
       "  </thead>\n",
       "  <tbody>\n",
       "    <tr>\n",
       "      <th>00:00</th>\n",
       "      <td>7305064</td>\n",
       "      <td>416</td>\n",
       "      <td>2</td>\n",
       "      <td>390</td>\n",
       "      <td>0</td>\n",
       "      <td>21</td>\n",
       "      <td>0</td>\n",
       "      <td>0</td>\n",
       "      <td>2</td>\n",
       "      <td>0</td>\n",
       "      <td>0</td>\n",
       "      <td>1</td>\n",
       "      <td>0</td>\n",
       "      <td>10105</td>\n",
       "      <td>237.853673</td>\n",
       "      <td>37.911336</td>\n",
       "    </tr>\n",
       "    <tr>\n",
       "      <th>01:00</th>\n",
       "      <td>7305344</td>\n",
       "      <td>289</td>\n",
       "      <td>1</td>\n",
       "      <td>270</td>\n",
       "      <td>0</td>\n",
       "      <td>18</td>\n",
       "      <td>0</td>\n",
       "      <td>0</td>\n",
       "      <td>0</td>\n",
       "      <td>0</td>\n",
       "      <td>0</td>\n",
       "      <td>0</td>\n",
       "      <td>0</td>\n",
       "      <td>10105</td>\n",
       "      <td>237.853673</td>\n",
       "      <td>37.911336</td>\n",
       "    </tr>\n",
       "    <tr>\n",
       "      <th>02:00</th>\n",
       "      <td>7305747</td>\n",
       "      <td>217</td>\n",
       "      <td>1</td>\n",
       "      <td>201</td>\n",
       "      <td>0</td>\n",
       "      <td>13</td>\n",
       "      <td>1</td>\n",
       "      <td>0</td>\n",
       "      <td>1</td>\n",
       "      <td>0</td>\n",
       "      <td>0</td>\n",
       "      <td>0</td>\n",
       "      <td>0</td>\n",
       "      <td>10105</td>\n",
       "      <td>237.853673</td>\n",
       "      <td>37.911336</td>\n",
       "    </tr>\n",
       "    <tr>\n",
       "      <th>03:00</th>\n",
       "      <td>7305993</td>\n",
       "      <td>179</td>\n",
       "      <td>1</td>\n",
       "      <td>164</td>\n",
       "      <td>0</td>\n",
       "      <td>14</td>\n",
       "      <td>0</td>\n",
       "      <td>0</td>\n",
       "      <td>0</td>\n",
       "      <td>0</td>\n",
       "      <td>0</td>\n",
       "      <td>0</td>\n",
       "      <td>0</td>\n",
       "      <td>10105</td>\n",
       "      <td>237.853673</td>\n",
       "      <td>37.911336</td>\n",
       "    </tr>\n",
       "    <tr>\n",
       "      <th>04:00</th>\n",
       "      <td>7306308</td>\n",
       "      <td>190</td>\n",
       "      <td>0</td>\n",
       "      <td>168</td>\n",
       "      <td>1</td>\n",
       "      <td>20</td>\n",
       "      <td>0</td>\n",
       "      <td>0</td>\n",
       "      <td>1</td>\n",
       "      <td>0</td>\n",
       "      <td>0</td>\n",
       "      <td>0</td>\n",
       "      <td>0</td>\n",
       "      <td>10105</td>\n",
       "      <td>237.853673</td>\n",
       "      <td>37.911336</td>\n",
       "    </tr>\n",
       "  </tbody>\n",
       "</table>\n",
       "</div>"
      ],
      "text/plain": [
       "          Unnamed: 0  Total  MR   PW  PW+  Lief  Lief+  Lief+Aufl.  LW  LW+  \\\n",
       "TimeFrom                                                                      \n",
       "00:00        7305064    416   2  390    0    21      0           0   2    0   \n",
       "01:00        7305344    289   1  270    0    18      0           0   0    0   \n",
       "02:00        7305747    217   1  201    0    13      1           0   1    0   \n",
       "03:00        7305993    179   1  164    0    14      0           0   0    0   \n",
       "04:00        7306308    190   0  168    1    20      0           0   1    0   \n",
       "\n",
       "          Sattelzug  Bus  andere   Year    Latitude  Longitude  \n",
       "TimeFrom                                                        \n",
       "00:00             0    1       0  10105  237.853673  37.911336  \n",
       "01:00             0    0       0  10105  237.853673  37.911336  \n",
       "02:00             0    0       0  10105  237.853673  37.911336  \n",
       "03:00             0    0       0  10105  237.853673  37.911336  \n",
       "04:00             0    0       0  10105  237.853673  37.911336  "
      ]
     },
     "execution_count": 35,
     "metadata": {},
     "output_type": "execute_result"
    }
   ],
   "source": [
    "drei2.head()"
   ]
  },
  {
   "cell_type": "code",
   "execution_count": 37,
   "id": "d71cd9a6-3f37-4168-8b13-314b343794d8",
   "metadata": {},
   "outputs": [],
   "source": [
    "x1 = drei1.Lufttemperatur.tolist()"
   ]
  },
  {
   "cell_type": "code",
   "execution_count": 38,
   "id": "20e4c6e5-11bf-41f5-8bed-da452d514108",
   "metadata": {},
   "outputs": [],
   "source": [
    "x2 = drei2.Total.tolist()"
   ]
  },
  {
   "cell_type": "code",
   "execution_count": 39,
   "id": "ec4f37bf-ee68-4ca1-aed6-d52722088573",
   "metadata": {},
   "outputs": [
    {
     "data": {
      "text/plain": [
       "[16.305,\n",
       " 16.125,\n",
       " 15.435,\n",
       " 14.495,\n",
       " 14.39,\n",
       " 14.52,\n",
       " 14.31,\n",
       " 14.595,\n",
       " 14.83,\n",
       " 15.43,\n",
       " 16.115,\n",
       " 17.52,\n",
       " 19.32,\n",
       " 18.145,\n",
       " 19.17,\n",
       " 17.885,\n",
       " 16.235,\n",
       " 15.64,\n",
       " 15.81,\n",
       " 17.585,\n",
       " 17.65,\n",
       " 15.985,\n",
       " 15.15,\n",
       " 14.54]"
      ]
     },
     "execution_count": 39,
     "metadata": {},
     "output_type": "execute_result"
    }
   ],
   "source": [
    "x1"
   ]
  },
  {
   "cell_type": "code",
   "execution_count": 42,
   "id": "0fd94398-7d0e-45f4-966d-29481ec19a16",
   "metadata": {},
   "outputs": [],
   "source": [
    "test = np.array([x1, x2])"
   ]
  },
  {
   "cell_type": "code",
   "execution_count": 44,
   "id": "9a4eab47-6c14-4273-a935-0c385fe28526",
   "metadata": {},
   "outputs": [
    {
     "data": {
      "text/plain": [
       "(2, 24)"
      ]
     },
     "execution_count": 44,
     "metadata": {},
     "output_type": "execute_result"
    }
   ],
   "source": [
    "test.shape"
   ]
  },
  {
   "cell_type": "code",
   "execution_count": 45,
   "id": "0f06c457-2f9d-4b5b-970a-11267de04184",
   "metadata": {},
   "outputs": [],
   "source": [
    "cov = np.cov(test)"
   ]
  },
  {
   "cell_type": "code",
   "execution_count": 46,
   "id": "5668c819-8651-43e0-8909-33e863015055",
   "metadata": {},
   "outputs": [
    {
     "data": {
      "text/plain": [
       "array([[2.32329561e+00, 3.29500607e+02],\n",
       "       [3.29500607e+02, 7.41073460e+04]])"
      ]
     },
     "execution_count": 46,
     "metadata": {},
     "output_type": "execute_result"
    }
   ],
   "source": [
    "cov"
   ]
  },
  {
   "cell_type": "code",
   "execution_count": 47,
   "id": "151263f0-2731-4a2c-8f5d-8a65d95f038d",
   "metadata": {},
   "outputs": [
    {
     "data": {
      "text/plain": [
       "329.5006068840581"
      ]
     },
     "execution_count": 47,
     "metadata": {},
     "output_type": "execute_result"
    }
   ],
   "source": [
    "cov[0][1]"
   ]
  },
  {
   "cell_type": "code",
   "execution_count": 52,
   "id": "98cabee2-4337-4b63-86e7-67cd6184563b",
   "metadata": {},
   "outputs": [],
   "source": [
    "norm1 = preprocessing.normalize([np.array(x1)])"
   ]
  },
  {
   "cell_type": "code",
   "execution_count": 53,
   "id": "e0aa5b7a-bb32-498c-bc5d-5f35ad4478a3",
   "metadata": {},
   "outputs": [
    {
     "data": {
      "text/plain": [
       "array([[0.2054273 , 0.20315948, 0.19446614, 0.18262305, 0.18130015,\n",
       "        0.18293802, 0.18029222, 0.18388295, 0.18684372, 0.19440315,\n",
       "        0.20303349, 0.22073513, 0.2434134 , 0.22860953, 0.24152354,\n",
       "        0.22533378, 0.20454537, 0.19704894, 0.19919078, 0.22155407,\n",
       "        0.22237301, 0.20139561, 0.19087541, 0.18319   ]])"
      ]
     },
     "execution_count": 53,
     "metadata": {},
     "output_type": "execute_result"
    }
   ],
   "source": [
    "norm1"
   ]
  },
  {
   "cell_type": "code",
   "execution_count": 54,
   "id": "78e03a43-9b6d-4748-92b0-526681a7e971",
   "metadata": {},
   "outputs": [],
   "source": [
    "norm2 = preprocessing.normalize([np.array(x2)])"
   ]
  },
  {
   "cell_type": "code",
   "execution_count": 56,
   "id": "5c3b07f9-eb9a-4b27-88ce-5582d81c644f",
   "metadata": {},
   "outputs": [
    {
     "data": {
      "text/plain": [
       "(1, 24)"
      ]
     },
     "execution_count": 56,
     "metadata": {},
     "output_type": "execute_result"
    }
   ],
   "source": [
    "norm1.shape"
   ]
  },
  {
   "cell_type": "code",
   "execution_count": 58,
   "id": "49aeec3f-3abb-489a-8b3d-754fbfd7f7c4",
   "metadata": {},
   "outputs": [],
   "source": [
    "stack = np.vstack([norm1, norm2])"
   ]
  },
  {
   "cell_type": "code",
   "execution_count": 59,
   "id": "9012b4db-ebfc-47d5-99ab-5d7b646e22ce",
   "metadata": {},
   "outputs": [
    {
     "data": {
      "text/plain": [
       "array([[0.2054273 , 0.20315948, 0.19446614, 0.18262305, 0.18130015,\n",
       "        0.18293802, 0.18029222, 0.18388295, 0.18684372, 0.19440315,\n",
       "        0.20303349, 0.22073513, 0.2434134 , 0.22860953, 0.24152354,\n",
       "        0.22533378, 0.20454537, 0.19704894, 0.19919078, 0.22155407,\n",
       "        0.22237301, 0.20139561, 0.19087541, 0.18319   ],\n",
       "       [0.14718165, 0.10224879, 0.07677504, 0.06333057, 0.06722239,\n",
       "        0.05908494, 0.07040661, 0.05342411, 0.08137447, 0.13692139,\n",
       "        0.20520519, 0.25438367, 0.27455039, 0.28516445, 0.30533117,\n",
       "        0.30073174, 0.32089846, 0.29082528, 0.28021122, 0.25473747,\n",
       "        0.24553862, 0.20520519, 0.15779571, 0.10649442]])"
      ]
     },
     "execution_count": 59,
     "metadata": {},
     "output_type": "execute_result"
    }
   ],
   "source": [
    "stack"
   ]
  },
  {
   "cell_type": "code",
   "execution_count": 60,
   "id": "64a4cf8d-a7ac-4daa-805e-0902be212ab4",
   "metadata": {},
   "outputs": [
    {
     "data": {
      "text/plain": [
       "(2, 24)"
      ]
     },
     "execution_count": 60,
     "metadata": {},
     "output_type": "execute_result"
    }
   ],
   "source": [
    "stack.shape"
   ]
  },
  {
   "cell_type": "code",
   "execution_count": 61,
   "id": "62204707-a36e-49a1-9f6a-674a1f2c2885",
   "metadata": {},
   "outputs": [],
   "source": [
    "cov_norm = np.cov(stack)"
   ]
  },
  {
   "cell_type": "code",
   "execution_count": 62,
   "id": "bf53f24f-e3e4-4889-95a5-76c1467b625c",
   "metadata": {},
   "outputs": [
    {
     "data": {
      "text/plain": [
       "array([[0.00036879, 0.00146877],\n",
       "       [0.00146877, 0.00927645]])"
      ]
     },
     "execution_count": 62,
     "metadata": {},
     "output_type": "execute_result"
    }
   ],
   "source": [
    "cov_norm"
   ]
  },
  {
   "cell_type": "code",
   "execution_count": 63,
   "id": "f1ccfd0e-62f5-4eef-9146-e87384f07511",
   "metadata": {},
   "outputs": [
    {
     "data": {
      "text/plain": [
       "0.001468770427589472"
      ]
     },
     "execution_count": 63,
     "metadata": {},
     "output_type": "execute_result"
    }
   ],
   "source": [
    "cov_norm[0][1]"
   ]
  },
  {
   "cell_type": "code",
   "execution_count": null,
   "id": "e6cae3c0-766c-4306-8b13-532cdfd197b7",
   "metadata": {},
   "outputs": [],
   "source": []
  }
 ],
 "metadata": {
  "kernelspec": {
   "display_name": "Python 3 (ipykernel)",
   "language": "python",
   "name": "python3"
  },
  "language_info": {
   "codemirror_mode": {
    "name": "ipython",
    "version": 3
   },
   "file_extension": ".py",
   "mimetype": "text/x-python",
   "name": "python",
   "nbconvert_exporter": "python",
   "pygments_lexer": "ipython3",
   "version": "3.9.7"
  }
 },
 "nbformat": 4,
 "nbformat_minor": 5
}

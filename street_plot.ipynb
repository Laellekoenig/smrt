{
 "cells": [
  {
   "cell_type": "code",
   "execution_count": 1,
   "id": "ff8197a9-676e-4993-8b31-6f16c2f38375",
   "metadata": {},
   "outputs": [],
   "source": [
    "import pandas as pd\n",
    "import matplotlib.pyplot as plt"
   ]
  },
  {
   "cell_type": "code",
   "execution_count": 2,
   "id": "d621bfe7-d0ed-4c3e-85a9-7d9560e1797b",
   "metadata": {},
   "outputs": [],
   "source": [
    "df = pd.read_csv(\"datasets/strassen.csv\", delimiter=\";\")"
   ]
  },
  {
   "cell_type": "code",
   "execution_count": 3,
   "id": "a967f437-6c63-410f-9693-3685cdcce538",
   "metadata": {},
   "outputs": [
    {
     "data": {
      "text/html": [
       "<div>\n",
       "<style scoped>\n",
       "    .dataframe tbody tr th:only-of-type {\n",
       "        vertical-align: middle;\n",
       "    }\n",
       "\n",
       "    .dataframe tbody tr th {\n",
       "        vertical-align: top;\n",
       "    }\n",
       "\n",
       "    .dataframe thead th {\n",
       "        text-align: right;\n",
       "    }\n",
       "</style>\n",
       "<table border=\"1\" class=\"dataframe\">\n",
       "  <thead>\n",
       "    <tr style=\"text-align: right;\">\n",
       "      <th></th>\n",
       "      <th>Geo Point</th>\n",
       "      <th>Geo Shape</th>\n",
       "      <th>OBJID</th>\n",
       "      <th>ATTRIBUTE1</th>\n",
       "      <th>VELOPLAN_T</th>\n",
       "      <th>STR_NAME</th>\n",
       "      <th>GEMEINDE</th>\n",
       "    </tr>\n",
       "  </thead>\n",
       "  <tbody>\n",
       "    <tr>\n",
       "      <th>0</th>\n",
       "      <td>47.5535555031,7.54257630274</td>\n",
       "      <td>{\"type\": \"LineString\", \"coordinates\": [[7.5416...</td>\n",
       "      <td>1803</td>\n",
       "      <td>18154.0</td>\n",
       "      <td>STR 50 60 2KL</td>\n",
       "      <td>Grabenring</td>\n",
       "      <td>Allschwil</td>\n",
       "    </tr>\n",
       "    <tr>\n",
       "      <th>1</th>\n",
       "      <td>47.5295906946,7.63082261344</td>\n",
       "      <td>{\"type\": \"LineString\", \"coordinates\": [[7.6288...</td>\n",
       "      <td>1807</td>\n",
       "      <td>3573.0</td>\n",
       "      <td>STR 50 60 1KL</td>\n",
       "      <td>Münchensteinerstrasse</td>\n",
       "      <td>Muttenz</td>\n",
       "    </tr>\n",
       "    <tr>\n",
       "      <th>2</th>\n",
       "      <td>47.5402555654,7.62722155317</td>\n",
       "      <td>{\"type\": \"LineString\", \"coordinates\": [[7.6242...</td>\n",
       "      <td>1815</td>\n",
       "      <td>5608.0</td>\n",
       "      <td>STR 50 60 2KL</td>\n",
       "      <td>Birsfelderstrasse</td>\n",
       "      <td>Muttenz</td>\n",
       "    </tr>\n",
       "    <tr>\n",
       "      <th>3</th>\n",
       "      <td>47.5654396197,7.57292138737</td>\n",
       "      <td>{\"type\": \"LineString\", \"coordinates\": [[7.5731...</td>\n",
       "      <td>1817</td>\n",
       "      <td>13471.0</td>\n",
       "      <td>STR 50 60 1KL</td>\n",
       "      <td>Kannenfeldplatz</td>\n",
       "      <td>Basel</td>\n",
       "    </tr>\n",
       "    <tr>\n",
       "      <th>4</th>\n",
       "      <td>47.5547802986,7.61857725452</td>\n",
       "      <td>{\"type\": \"LineString\", \"coordinates\": [[7.6177...</td>\n",
       "      <td>1823</td>\n",
       "      <td>17534.0</td>\n",
       "      <td>STR 50 60 1KL</td>\n",
       "      <td>Hauptstrasse</td>\n",
       "      <td>Birsfelden</td>\n",
       "    </tr>\n",
       "  </tbody>\n",
       "</table>\n",
       "</div>"
      ],
      "text/plain": [
       "                     Geo Point  \\\n",
       "0  47.5535555031,7.54257630274   \n",
       "1  47.5295906946,7.63082261344   \n",
       "2  47.5402555654,7.62722155317   \n",
       "3  47.5654396197,7.57292138737   \n",
       "4  47.5547802986,7.61857725452   \n",
       "\n",
       "                                           Geo Shape  OBJID  ATTRIBUTE1  \\\n",
       "0  {\"type\": \"LineString\", \"coordinates\": [[7.5416...   1803     18154.0   \n",
       "1  {\"type\": \"LineString\", \"coordinates\": [[7.6288...   1807      3573.0   \n",
       "2  {\"type\": \"LineString\", \"coordinates\": [[7.6242...   1815      5608.0   \n",
       "3  {\"type\": \"LineString\", \"coordinates\": [[7.5731...   1817     13471.0   \n",
       "4  {\"type\": \"LineString\", \"coordinates\": [[7.6177...   1823     17534.0   \n",
       "\n",
       "      VELOPLAN_T               STR_NAME    GEMEINDE  \n",
       "0  STR 50 60 2KL             Grabenring   Allschwil  \n",
       "1  STR 50 60 1KL  Münchensteinerstrasse     Muttenz  \n",
       "2  STR 50 60 2KL      Birsfelderstrasse     Muttenz  \n",
       "3  STR 50 60 1KL        Kannenfeldplatz       Basel  \n",
       "4  STR 50 60 1KL           Hauptstrasse  Birsfelden  "
      ]
     },
     "execution_count": 3,
     "metadata": {},
     "output_type": "execute_result"
    }
   ],
   "source": [
    "df.head()"
   ]
  },
  {
   "cell_type": "code",
   "execution_count": 4,
   "id": "55701657-832f-41ec-868f-a92a7a05c71d",
   "metadata": {},
   "outputs": [],
   "source": [
    "shapes = df[\"Geo Shape\"]"
   ]
  },
  {
   "cell_type": "code",
   "execution_count": 9,
   "id": "0f7dcfa8-e602-41c1-930f-6b4f224890a1",
   "metadata": {},
   "outputs": [
    {
     "data": {
      "text/plain": [
       "0      {\"type\": \"LineString\", \"coordinates\": [[7.5416...\n",
       "1      {\"type\": \"LineString\", \"coordinates\": [[7.6288...\n",
       "2      {\"type\": \"LineString\", \"coordinates\": [[7.6242...\n",
       "3      {\"type\": \"LineString\", \"coordinates\": [[7.5731...\n",
       "4      {\"type\": \"LineString\", \"coordinates\": [[7.6177...\n",
       "                             ...                        \n",
       "764    {\"type\": \"LineString\", \"coordinates\": [[7.5901...\n",
       "765    {\"type\": \"LineString\", \"coordinates\": [[7.6159...\n",
       "766    {\"type\": \"LineString\", \"coordinates\": [[7.6091...\n",
       "767    {\"type\": \"LineString\", \"coordinates\": [[7.6027...\n",
       "768    {\"type\": \"LineString\", \"coordinates\": [[7.6019...\n",
       "Name: Geo Shape, Length: 769, dtype: object"
      ]
     },
     "execution_count": 9,
     "metadata": {},
     "output_type": "execute_result"
    }
   ],
   "source": [
    "shapes"
   ]
  },
  {
   "cell_type": "code",
   "execution_count": 11,
   "id": "18a6ab70-abd1-4ec2-899d-c25f99ff6a02",
   "metadata": {},
   "outputs": [
    {
     "data": {
      "text/plain": [
       "38"
      ]
     },
     "execution_count": 11,
     "metadata": {},
     "output_type": "execute_result"
    }
   ],
   "source": [
    "len(\"{\\\"type\\\": \\\"LineString\\\", \\\"coordinates\\\": \")"
   ]
  },
  {
   "cell_type": "code",
   "execution_count": 17,
   "id": "9efd542c-b806-4014-b16d-02223e0f3ffe",
   "metadata": {},
   "outputs": [],
   "source": [
    "df[\"shapes\"] = df[\"Geo Shape\"].apply(lambda x: x[38:-1])"
   ]
  },
  {
   "cell_type": "code",
   "execution_count": 18,
   "id": "092c7f26-a4ac-4c3f-8244-409e28d877f1",
   "metadata": {},
   "outputs": [
    {
     "data": {
      "text/html": [
       "<div>\n",
       "<style scoped>\n",
       "    .dataframe tbody tr th:only-of-type {\n",
       "        vertical-align: middle;\n",
       "    }\n",
       "\n",
       "    .dataframe tbody tr th {\n",
       "        vertical-align: top;\n",
       "    }\n",
       "\n",
       "    .dataframe thead th {\n",
       "        text-align: right;\n",
       "    }\n",
       "</style>\n",
       "<table border=\"1\" class=\"dataframe\">\n",
       "  <thead>\n",
       "    <tr style=\"text-align: right;\">\n",
       "      <th></th>\n",
       "      <th>Geo Point</th>\n",
       "      <th>Geo Shape</th>\n",
       "      <th>OBJID</th>\n",
       "      <th>ATTRIBUTE1</th>\n",
       "      <th>VELOPLAN_T</th>\n",
       "      <th>STR_NAME</th>\n",
       "      <th>GEMEINDE</th>\n",
       "      <th>shapes</th>\n",
       "    </tr>\n",
       "  </thead>\n",
       "  <tbody>\n",
       "    <tr>\n",
       "      <th>0</th>\n",
       "      <td>47.5535555031,7.54257630274</td>\n",
       "      <td>{\"type\": \"LineString\", \"coordinates\": [[7.5416...</td>\n",
       "      <td>1803</td>\n",
       "      <td>18154.0</td>\n",
       "      <td>STR 50 60 2KL</td>\n",
       "      <td>Grabenring</td>\n",
       "      <td>Allschwil</td>\n",
       "      <td>[[7.541670863872596, 47.554064696108675], [7.5...</td>\n",
       "    </tr>\n",
       "    <tr>\n",
       "      <th>1</th>\n",
       "      <td>47.5295906946,7.63082261344</td>\n",
       "      <td>{\"type\": \"LineString\", \"coordinates\": [[7.6288...</td>\n",
       "      <td>1807</td>\n",
       "      <td>3573.0</td>\n",
       "      <td>STR 50 60 1KL</td>\n",
       "      <td>Münchensteinerstrasse</td>\n",
       "      <td>Muttenz</td>\n",
       "      <td>[[7.628899268424232, 47.529900929585], [7.6289...</td>\n",
       "    </tr>\n",
       "    <tr>\n",
       "      <th>2</th>\n",
       "      <td>47.5402555654,7.62722155317</td>\n",
       "      <td>{\"type\": \"LineString\", \"coordinates\": [[7.6242...</td>\n",
       "      <td>1815</td>\n",
       "      <td>5608.0</td>\n",
       "      <td>STR 50 60 2KL</td>\n",
       "      <td>Birsfelderstrasse</td>\n",
       "      <td>Muttenz</td>\n",
       "      <td>[[7.624217938345526, 47.54084499162853], [7.62...</td>\n",
       "    </tr>\n",
       "    <tr>\n",
       "      <th>3</th>\n",
       "      <td>47.5654396197,7.57292138737</td>\n",
       "      <td>{\"type\": \"LineString\", \"coordinates\": [[7.5731...</td>\n",
       "      <td>1817</td>\n",
       "      <td>13471.0</td>\n",
       "      <td>STR 50 60 1KL</td>\n",
       "      <td>Kannenfeldplatz</td>\n",
       "      <td>Basel</td>\n",
       "      <td>[[7.573138865961641, 47.56474766024343], [7.57...</td>\n",
       "    </tr>\n",
       "    <tr>\n",
       "      <th>4</th>\n",
       "      <td>47.5547802986,7.61857725452</td>\n",
       "      <td>{\"type\": \"LineString\", \"coordinates\": [[7.6177...</td>\n",
       "      <td>1823</td>\n",
       "      <td>17534.0</td>\n",
       "      <td>STR 50 60 1KL</td>\n",
       "      <td>Hauptstrasse</td>\n",
       "      <td>Birsfelden</td>\n",
       "      <td>[[7.617764395897929, 47.5550731092304], [7.617...</td>\n",
       "    </tr>\n",
       "  </tbody>\n",
       "</table>\n",
       "</div>"
      ],
      "text/plain": [
       "                     Geo Point  \\\n",
       "0  47.5535555031,7.54257630274   \n",
       "1  47.5295906946,7.63082261344   \n",
       "2  47.5402555654,7.62722155317   \n",
       "3  47.5654396197,7.57292138737   \n",
       "4  47.5547802986,7.61857725452   \n",
       "\n",
       "                                           Geo Shape  OBJID  ATTRIBUTE1  \\\n",
       "0  {\"type\": \"LineString\", \"coordinates\": [[7.5416...   1803     18154.0   \n",
       "1  {\"type\": \"LineString\", \"coordinates\": [[7.6288...   1807      3573.0   \n",
       "2  {\"type\": \"LineString\", \"coordinates\": [[7.6242...   1815      5608.0   \n",
       "3  {\"type\": \"LineString\", \"coordinates\": [[7.5731...   1817     13471.0   \n",
       "4  {\"type\": \"LineString\", \"coordinates\": [[7.6177...   1823     17534.0   \n",
       "\n",
       "      VELOPLAN_T               STR_NAME    GEMEINDE  \\\n",
       "0  STR 50 60 2KL             Grabenring   Allschwil   \n",
       "1  STR 50 60 1KL  Münchensteinerstrasse     Muttenz   \n",
       "2  STR 50 60 2KL      Birsfelderstrasse     Muttenz   \n",
       "3  STR 50 60 1KL        Kannenfeldplatz       Basel   \n",
       "4  STR 50 60 1KL           Hauptstrasse  Birsfelden   \n",
       "\n",
       "                                              shapes  \n",
       "0  [[7.541670863872596, 47.554064696108675], [7.5...  \n",
       "1  [[7.628899268424232, 47.529900929585], [7.6289...  \n",
       "2  [[7.624217938345526, 47.54084499162853], [7.62...  \n",
       "3  [[7.573138865961641, 47.56474766024343], [7.57...  \n",
       "4  [[7.617764395897929, 47.5550731092304], [7.617...  "
      ]
     },
     "execution_count": 18,
     "metadata": {},
     "output_type": "execute_result"
    }
   ],
   "source": [
    "df.head()"
   ]
  },
  {
   "cell_type": "code",
   "execution_count": 19,
   "id": "4521edc2-44f3-49da-84a0-67b1bac92717",
   "metadata": {},
   "outputs": [],
   "source": [
    "shapes = df.shapes  "
   ]
  },
  {
   "cell_type": "code",
   "execution_count": 20,
   "id": "4f3366d9-096c-4ae6-a1c4-42415f40b0ac",
   "metadata": {},
   "outputs": [
    {
     "data": {
      "text/plain": [
       "'[[7.541670863872596, 47.554064696108675], [7.541676545705458, 47.55406246065436], [7.541682214148712, 47.554060171249176], [7.541687882695276, 47.554057935806], [7.54169355124137, 47.55405570036261], [7.541699219683171, 47.554053410956584], [7.541704901427109, 47.55405113053228], [7.541710530115768, 47.554048895123145], [7.541716172002752, 47.55404661473344], [7.541721840425297, 47.55404431633258], [7.541727468939444, 47.55404199098543], [7.541733110807654, 47.55403970160115], [7.541738699551384, 47.55403742125722], [7.54174434131476, 47.55403507791008], [7.541749930057521, 47.554032797565604], [7.54175557183723, 47.55403046321165], [7.541761173760463, 47.554028128892604], [7.541766762397881, 47.554025794584945], [7.541772364320126, 47.55402346026531], [7.54177796624189, 47.554021125945475], [7.541783515021862, 47.554018791672206], [7.541789116838724, 47.55401640338945], [7.541794678903039, 47.55401406910392], [7.541800240862938, 47.55401168085577], [7.541805802839662, 47.55400930160115], [7.541811364798561, 47.55400691335245], [7.541816926756965, 47.55400452510354], [7.541822475429548, 47.55400213686609], [7.541828010833636, 47.553999757633825], [7.541833532847952, 47.553997324450684], [7.541839094804357, 47.553994936200695], [7.541844616817666, 47.55399250301702], [7.541850112363815, 47.55399012381886], [7.541855634376117, 47.55398769063466], [7.54186115637059, 47.55398524845648], [7.541866638543271, 47.55398282430068], [7.541872133966109, 47.55398038214543], [7.541877616033786, 47.5539779040268], [7.541883098187626, 47.553975470876495], [7.541888593522263, 47.553972983751855], [7.541894075675095, 47.55397055060101], [7.541899531152776, 47.553968063511064], [7.541905013217908, 47.55396558539112], [7.541910468694565, 47.55396309830066], [7.541915924170716, 47.553960611209966], [7.541921379663698, 47.55395813311267], [7.541926821853518, 47.55395564603318], [7.541932237385509, 47.553953114008344], [7.541937679574302, 47.5539506269283], [7.541943108390571, 47.55394809489118], [7.541948523921008, 47.55394556286552], [7.541953926165631, 47.55394303085139], [7.541959341695037, 47.55394049882525], [7.541964730653322, 47.55393796682234], [7.541970132896397, 47.55393543480741], [7.541975508551002, 47.55393289382202], [7.541980923991595, 47.55393031682625], [7.541986312947818, 47.55392778482234], [7.541991648658214, 47.553925198902824], [7.541997024241342, 47.55392262194153], [7.542002399806588, 47.55392003598627], [7.542007748800721, 47.553917450054264], [7.542013084509036, 47.55391486413376], [7.542018420234187, 47.553912287206735], [7.542023769244114, 47.553909710267725], [7.542029104846719, 47.55390707038416], [7.542034440552946, 47.55390448446264], [7.542039749618635, 47.55390186258954], [7.542045058649067, 47.55389922272872], [7.542050354411039, 47.55389659187312], [7.542055663457785, 47.55389396100555], [7.542060959218706, 47.5538913301495], [7.542066268264398, 47.55388869928144], [7.542071537436335, 47.55388605945469], [7.542076846394137, 47.553883383617524], [7.542082115478173, 47.55388069882165], [7.542087384665887, 47.5538780679879], [7.54209264046358, 47.55387538320332], [7.542097869707536, 47.553872707435744], [7.542103138789449, 47.553870022638975], [7.542108381300262, 47.55386733786544], [7.542113610542637, 47.55386466209711], [7.542118839680235, 47.55386193236625], [7.54212406890417, 47.5538592476038], [7.54212929812758, 47.55385656284106], [7.542134500693014, 47.55385383313304], [7.542139689972626, 47.55385110343654], [7.54214491910755, 47.55384837370451], [7.5421501083861, 47.55384564400753], [7.542155271076177, 47.55384290534009], [7.542160460353656, 47.55384017564264], [7.542165623060049, 47.55383744596848], [7.542170825517442, 47.55383466229651], [7.542175974937492, 47.55383193263365], [7.542181137555362, 47.55382915799021], [7.542186286870028, 47.55382637436457], [7.542191409613611, 47.55382359076226], [7.542196572316798, 47.55382086108672], [7.542201694954988, 47.553818023521586], [7.542206804429074, 47.55381524892411], [7.542211927170506, 47.55381246532084], [7.542217049928788, 47.553809690711084], [7.54222213270899, 47.55380685318041], [7.542227255466207, 47.5538040785702], [7.542232338245326, 47.55380124103905], [7.542237421041294, 47.55379841250139], [7.542242503836723, 47.55379558396351], [7.542247599916876, 47.55379275541363], [7.542252629570161, 47.55378992692239], [7.542257725631828, 47.55378708937837], [7.542262768482312, 47.553784215906326], [7.542267824687099, 47.55378137839715], [7.542272867536495, 47.553778504924644], [7.542277883884416, 47.55377566745039], [7.542282913447453, 47.55377279398924], [7.542287929707291, 47.55376991154592], [7.542292945983982, 47.5537670380961], [7.542297948940063, 47.55376414667042], [7.542302965215667, 47.55376127322015], [7.54230798149073, 47.553758399769656], [7.542312944502378, 47.55375546341007], [7.542317960758943, 47.553752580965444], [7.542322937072157, 47.553749653587346], [7.542327913489276, 47.55374678017138], [7.542332849928226, 47.55374384383447], [7.54233781295454, 47.553740916467504], [7.542342762695061, 47.55373798911213], [7.542347699149784, 47.553735061768315], [7.542352635499481, 47.553732080461955], [7.542357571953107, 47.553729153117715], [7.542362508406187, 47.55372622577326], [7.542367404898486, 47.55372324450163], [7.542372314762566, 47.55372030818662], [7.542377251126927, 47.553717335872946], [7.542382107761834, 47.55371435463606], [7.542387017537184, 47.55371137335183], [7.542391914044151, 47.55370840107285], [7.542396783962667, 47.553705419823594], [7.542401640595387, 47.553702438585866], [7.542406497140453, 47.55369941237935], [7.542411367057319, 47.55369643112946], [7.542416236869099, 47.55369339591702], [7.542421066946572, 47.553690423695805], [7.542425883633709, 47.55368739752385], [7.542430713588111, 47.55368436234619], [7.542435543559389, 47.553681336162036], [7.542440373530107, 47.55367830997769], [7.54244519021505, 47.553675283804914], [7.542449980311537, 47.55367224866181], [7.542454783622986, 47.55366917753188], [7.542459560433136, 47.553666142400175], [7.542464363743483, 47.55366307126982], [7.542469113999508, 47.55366004515503], [7.542473904006081, 47.553656965042336], [7.542478654156405, 47.55365388496485], [7.542483417591411, 47.55365080487535], [7.542488167740633, 47.55364772479753], [7.542492891336279, 47.55364465373678], [7.542497628199174, 47.553641573670276], [7.542502351689089, 47.553638448646815], [7.542507075265656, 47.55363536859175], [7.542511785451802, 47.55363223458598], [7.542516469189032, 47.55362916355967], [7.542521192676735, 47.553626038535455], [7.542525863005556, 47.55362290456453], [7.542530546636482, 47.5536197795753], [7.54253523026686, 47.5536166545859], [7.542539913896687, 47.55361352959629], [7.542544557652858, 47.55361039564823], [7.542549241281577, 47.55360727065824], [7.542553871664191, 47.553604091753], [7.542558515436159, 47.553600966798086], [7.542563159102885, 47.55359778788064], [7.542567776198625, 47.553594608986636], [7.542572380026039, 47.55359143909798], [7.542577023778358, 47.55358830514858], [7.542581627604679, 47.553585135259546], [7.542586204737852, 47.55358190243796], [7.542590808545611, 47.553578723554814], [7.542595385799855, 47.55357555368886], [7.542599949750883, 47.55357237484085], [7.542604526881836, 47.55356914201845], [7.542609090744482, 47.55356591820142], [7.542613667979073, 47.55356273934102], [7.542618205270199, 47.553559515547306], [7.542622729275566, 47.55355629176521], [7.542627266548125, 47.55355305897738], [7.542631803837599, 47.55354983518311], [7.542636341126518, 47.553546611388626], [7.54264082527407, 47.55354338764128], [7.542645335886712, 47.55354010990779], [7.542649833300909, 47.5535368771545], [7.542654317446821, 47.55353365340661], [7.542658828057802, 47.55353037567258], [7.542663285544888, 47.55352710697938], [7.542667743013959, 47.55352382929228], [7.542671365349106, 47.5535214966906], [7.542674947810868, 47.55351915513056], [7.542678570058031, 47.55351677756003], [7.542682152449287, 47.553514400024895], [7.542685734927569, 47.553512067458236], [7.542689317300709, 47.553509680929146], [7.542692873103145, 47.553507294423596], [7.542696442190445, 47.55350490790609], [7.542699998009712, 47.553502530394034], [7.542703540525993, 47.55350014389999], [7.542707096239774, 47.55349771242541], [7.542710638772886, 47.55349533492485], [7.542714141327783, 47.55349289450362], [7.542717697145454, 47.553490516991], [7.542721213002377, 47.553488085551436], [7.542724715573788, 47.55348565412362], [7.542728218232264, 47.553483267664305], [7.542731694232663, 47.553480836259915], [7.5427352100883, 47.55347840481998], [7.542738685983188, 47.553475919453035], [7.542742161982626, 47.553473488048354], [7.542745637981745, 47.553471056643524], [7.542749074124987, 47.55346862527413], [7.542752536733404, 47.55346613991862], [7.542755972788603, 47.55346366358041], [7.542759408930896, 47.55346123221069], [7.542762844967981, 47.55345874687851], [7.542766294289923, 47.55345626153443], [7.542769690488297, 47.55345378523132], [7.542773099971543, 47.55345130891624], [7.54277653600734, 47.55344882358365], [7.542779892331742, 47.55344633832204], [7.542783288528851, 47.55344386201852], [7.543209753375929, 47.55314270369958], [7.543211610463375, 47.55314125404631], [7.543213440910288, 47.55313976844186], [7.543215271357092, 47.5531382828374], [7.543217061948495, 47.5531367972686], [7.543218892377531, 47.55313530267034], [7.543220682968732, 47.55313381710146], [7.543222473454466, 47.553132277570235], [7.543224264045462, 47.553130792001284], [7.543226054618792, 47.55312929743861], [7.543227805248923, 47.553127757942924], [7.543229569269418, 47.55312627239769], [7.543231319899338, 47.55312473290198], [7.543233070529165, 47.55312319340624], [7.543234794588688, 47.553121653934234], [7.543236545218313, 47.55312011443847], [7.543238269295201, 47.553118583960135], [7.543239980069326, 47.5531170445], [7.543241664273167, 47.553115505063516], [7.543243375047096, 47.553113965603316], [7.543245059250741, 47.55311242616682], [7.543246743348895, 47.553110832768006], [7.543248414267248, 47.55310929334337], [7.543250071812579, 47.553107708961996], [7.543251716072716, 47.55310612459251], [7.543253386990775, 47.553104585167794], [7.543255004662966, 47.55310299182827], [7.543256648922809, 47.553101407458726], [7.543258293182554, 47.553099823089106], [7.543259897586934, 47.553098238755126], [7.543261501973641, 47.55309664542748], [7.543263079807639, 47.55309506111724], [7.543264684088755, 47.553093413827206], [7.543266261922562, 47.55309182951688], [7.543267826383343, 47.55309020024992], [7.543269404199392, 47.553088606945884], [7.543270968642419, 47.55308696868517], [7.543272506620581, 47.55308538441047], [7.543274044493238, 47.55308374617344], [7.543275569080711, 47.55308210794835], [7.543277106953177, 47.55308046971125], [7.543278604970284, 47.553078831509886], [7.543280102987297, 47.553077193308454], [7.543281601021794, 47.55307556410075], [7.54328309902106, 47.55307391690558], [7.543284597037799, 47.55307227870408], [7.543286055111332, 47.553070595569686], [7.543287526557719, 47.55306895739196], [7.54328898463107, 47.55306727425752], [7.543290416222021, 47.55306563611538], [7.543291874295194, 47.55306395298093], [7.54329329258331, 47.55306230585696], [7.543294724086132, 47.553060622746244], [7.54329610244853, 47.55305893968304], [7.543297533933599, 47.55305724757858], [7.543298912295828, 47.55305556451537], [7.543300303925469, 47.55305387244652], [7.543301655717358, 47.55305218940706], [7.543303047346825, 47.55305049733817], [7.543304399138541, 47.55304881429868], [7.543305750930172, 47.55304713125922], [7.543307102616267, 47.55304539425738], [7.543308414534913, 47.55304370225979], [7.543309739650676, 47.55304196528172], [7.543311038301657, 47.553040282289736], [7.543312363417248, 47.553038545311644], [7.543313675353139, 47.55303686230771], [7.543314960613325, 47.553035125365255], [7.543316232588364, 47.553033388434685], [7.543317517848391, 47.55303165149221], [7.543318749968032, 47.55302991459732], [7.543319995372667, 47.55302817769053], [7.543321240777221, 47.55302644078369], [7.543322472896621, 47.553024703888745], [7.543323718301012, 47.55302296698187], [7.543324923850107, 47.5530212301107], [7.543326129416697, 47.55301950223323], [7.543327334860162, 47.55301771139974], [7.543328500553803, 47.553015974564204], [7.543329706102583, 47.553014237693], [7.543330871708173, 47.55301245588886], [7.543331997546373, 47.55301071908901], [7.543333176436875, 47.55300893727294], [7.543334302169454, 47.553007146510716], [7.543335441292492, 47.55300540969895], [7.543336567042493, 47.55300362793043], [7.543337666204705, 47.55300183719199], [7.543338791936975, 47.55300004642975], [7.543339891116617, 47.55299826468504], [7.543340977011117, 47.552996482952146], [7.5433420496029, 47.552994692237505], [7.543343095642061, 47.55299291054032], [7.543344154966215, 47.55299112883126], [7.543345214272718, 47.55298933812844], [7.543346273491235, 47.552987502457015], [7.543347292942401, 47.5529857117899], [7.543348325696148, 47.552983930104595], [7.54334930530957, 47.55298214846685], [7.543350324672619, 47.55298031283109], [7.543351304268326, 47.55297852219965], [7.543352297078694, 47.552976695581386], [7.543353276586353, 47.55297485998131], [7.543354229611739, 47.55297306937364], [7.543355182549138, 47.55297123379733], [7.543356135486479, 47.55296939822104], [7.543357075244196, 47.55296761661896], [7.543357988308647, 47.55296577208464], [7.5433589014082, 47.55296394553771], [7.543359814490101, 47.552962109997104], [7.543360727571945, 47.55296027445646], [7.543361600798557, 47.55295843895153], [7.543362474025107, 47.552956603446596], [7.54336334725159, 47.55295476794163], [7.543364220478021, 47.55295293243672], [7.543365067134284, 47.552951096955546], [7.543365900505421, 47.552949261486305], [7.543366733770997, 47.55294737205468], [7.543367580444668, 47.55294554556725], [7.543368373960479, 47.55294371013368], [7.543369180743698, 47.55294186569447], [7.543369987456527, 47.55293998528039], [7.543370754402064, 47.552938149870606], [7.543371507974572, 47.55293626950412], [7.543372274920007, 47.55293443409435], [7.543373041759871, 47.55293254472224], [7.543373768850049, 47.552930709348125], [7.543374509137293, 47.55292882899355], [7.543375222854388, 47.55292694866274], [7.543375963229459, 47.552925113276736], [7.543376650358774, 47.552923223976], [7.543377337488038, 47.552921334675275], [7.543378037919881, 47.552919454356406], [7.54337872515457, 47.55291761901796], [7.543379385731176, 47.552915738734775]]'"
      ]
     },
     "execution_count": 20,
     "metadata": {},
     "output_type": "execute_result"
    }
   ],
   "source": [
    "shapes[0]"
   ]
  },
  {
   "cell_type": "code",
   "execution_count": 21,
   "id": "be3bd8bd-c8bd-4eda-8a9e-d3b3c0664b51",
   "metadata": {},
   "outputs": [],
   "source": [
    "import ast"
   ]
  },
  {
   "cell_type": "code",
   "execution_count": 22,
   "id": "18301088-94a7-4a7a-b682-50a9a43319dd",
   "metadata": {},
   "outputs": [],
   "source": [
    "test = ast.literal_eval(shapes[0])"
   ]
  },
  {
   "cell_type": "code",
   "execution_count": 25,
   "id": "e31e2fe8-265a-4796-853b-1ca91ea2e6d1",
   "metadata": {},
   "outputs": [],
   "source": [
    "import numpy as np\n",
    "test_np = np.array(test)"
   ]
  },
  {
   "cell_type": "code",
   "execution_count": 27,
   "id": "c7661908-90fe-4b3f-b007-ff8dbfdf6787",
   "metadata": {},
   "outputs": [
    {
     "data": {
      "text/plain": [
       "(363, 2)"
      ]
     },
     "execution_count": 27,
     "metadata": {},
     "output_type": "execute_result"
    }
   ],
   "source": [
    "test_np.shape"
   ]
  },
  {
   "cell_type": "code",
   "execution_count": 28,
   "id": "ef24a73e-4d00-453d-bdc2-9dad31603c75",
   "metadata": {},
   "outputs": [],
   "source": [
    "test_np = test_np.T"
   ]
  },
  {
   "cell_type": "code",
   "execution_count": 29,
   "id": "7dc29f4a-b0b6-4a10-bc8f-8a5b8d5c6c8d",
   "metadata": {},
   "outputs": [
    {
     "data": {
      "text/plain": [
       "(2, 363)"
      ]
     },
     "execution_count": 29,
     "metadata": {},
     "output_type": "execute_result"
    }
   ],
   "source": [
    "test_np.shape"
   ]
  },
  {
   "cell_type": "code",
   "execution_count": 31,
   "id": "bd305f95-afba-4e1d-b6ee-f5a92024f04c",
   "metadata": {},
   "outputs": [],
   "source": [
    "x = test_np[0, :]"
   ]
  },
  {
   "cell_type": "code",
   "execution_count": 32,
   "id": "9f57c949-5f83-4bab-b919-56969cc6997e",
   "metadata": {},
   "outputs": [],
   "source": [
    "y = test_np[1, :]"
   ]
  },
  {
   "cell_type": "code",
   "execution_count": 35,
   "id": "a1fbc030-b5b7-4f0c-81de-3d0db6f52ac3",
   "metadata": {},
   "outputs": [
    {
     "data": {
      "image/png": "[encoded data removed]",
      "text/plain": [
       "<Figure size 432x288 with 1 Axes>"
      ]
     },
     "metadata": {
      "needs_background": "light"
     },
     "output_type": "display_data"
    }
   ],
   "source": [
    "plt.scatter(x, y)\n",
    "plt.show()"
   ]
  },
  {
   "cell_type": "code",
   "execution_count": 38,
   "id": "ddddeaae-bfec-423c-99b3-86b05e3993e1",
   "metadata": {},
   "outputs": [
    {
     "data": {
      "image/png": "[encoded data removed]",
      "text/plain": [
       "<Figure size 720x720 with 1 Axes>"
      ]
     },
     "metadata": {
      "needs_background": "light"
     },
     "output_type": "display_data"
    }
   ],
   "source": [
    "plt.figure(figsize=(10, 10))\n",
    "for shape in shapes:\n",
    "    lst = ast.literal_eval(shape)\n",
    "    npa = np.array(lst).T\n",
    "    x = npa[0,:]\n",
    "    y = npa[1,:]\n",
    "    plt.scatter(x, y, s=1, c=\"blue\")\n",
    "    \n",
    "plt.show()"
   ]
  },
  {
   "cell_type": "code",
   "execution_count": null,
   "id": "a590a9a2-6b66-4f8a-9a65-42a7abd1d73a",
   "metadata": {},
   "outputs": [],
   "source": []
  }
 ],
 "metadata": {
  "kernelspec": {
   "display_name": "Python 3 (ipykernel)",
   "language": "python",
   "name": "python3"
  },
  "language_info": {
   "codemirror_mode": {
    "name": "ipython",
    "version": 3
   },
   "file_extension": ".py",
   "mimetype": "text/x-python",
   "name": "python",
   "nbconvert_exporter": "python",
   "pygments_lexer": "ipython3",
   "version": "3.9.7"
  }
 },
 "nbformat": 4,
 "nbformat_minor": 5
}

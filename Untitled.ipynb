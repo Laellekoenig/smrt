{
 "cells": [
  {
   "cell_type": "code",
   "execution_count": 1,
   "id": "07201861",
   "metadata": {},
   "outputs": [],
   "source": [
    "import pandas as pd"
   ]
  },
  {
   "cell_type": "code",
   "execution_count": 2,
   "id": "8e295323",
   "metadata": {},
   "outputs": [],
   "source": [
    "df = pd.read_csv(\"datasets/luftklima_reformatted.csv\")"
   ]
  },
  {
   "cell_type": "code",
   "execution_count": 3,
   "id": "b97c3624",
   "metadata": {},
   "outputs": [
    {
     "data": {
      "text/html": [
       "<div>\n",
       "<style scoped>\n",
       "    .dataframe tbody tr th:only-of-type {\n",
       "        vertical-align: middle;\n",
       "    }\n",
       "\n",
       "    .dataframe tbody tr th {\n",
       "        vertical-align: top;\n",
       "    }\n",
       "\n",
       "    .dataframe thead th {\n",
       "        text-align: right;\n",
       "    }\n",
       "</style>\n",
       "<table border=\"1\" class=\"dataframe\">\n",
       "  <thead>\n",
       "    <tr style=\"text-align: right;\">\n",
       "      <th></th>\n",
       "      <th>Unnamed: 0</th>\n",
       "      <th>Station-ID</th>\n",
       "      <th>Name</th>\n",
       "      <th>Zeitstempel</th>\n",
       "      <th>Datum</th>\n",
       "      <th>Stunde</th>\n",
       "      <th>Minute</th>\n",
       "      <th>Koordinaten</th>\n",
       "      <th>Breitengrad</th>\n",
       "      <th>Längengrad</th>\n",
       "      <th>Lufttemperatur</th>\n",
       "      <th>Regen in 1 h</th>\n",
       "      <th>Regen in 24 h</th>\n",
       "      <th>Regen in 48 h</th>\n",
       "    </tr>\n",
       "  </thead>\n",
       "  <tbody>\n",
       "    <tr>\n",
       "      <th>0</th>\n",
       "      <td>0</td>\n",
       "      <td>034003AA</td>\n",
       "      <td>Goetheanum</td>\n",
       "      <td>2020-04-02 08:39:53+02:00</td>\n",
       "      <td>2020-04-02</td>\n",
       "      <td>8</td>\n",
       "      <td>39</td>\n",
       "      <td>47.53934,7.60146</td>\n",
       "      <td>47.53934</td>\n",
       "      <td>7.601460</td>\n",
       "      <td>15.7400</td>\n",
       "      <td>0.0</td>\n",
       "      <td>0.0</td>\n",
       "      <td>0.6</td>\n",
       "    </tr>\n",
       "    <tr>\n",
       "      <th>1</th>\n",
       "      <td>1</td>\n",
       "      <td>03400395</td>\n",
       "      <td>Hegenheimermattweg</td>\n",
       "      <td>2020-04-16 04:49:29+02:00</td>\n",
       "      <td>2020-04-16</td>\n",
       "      <td>4</td>\n",
       "      <td>49</td>\n",
       "      <td>47.57551,7.58309</td>\n",
       "      <td>47.57551</td>\n",
       "      <td>7.583090</td>\n",
       "      <td>6.6333</td>\n",
       "      <td>0.0</td>\n",
       "      <td>0.0</td>\n",
       "      <td>0.0</td>\n",
       "    </tr>\n",
       "    <tr>\n",
       "      <th>2</th>\n",
       "      <td>2</td>\n",
       "      <td>0340997E</td>\n",
       "      <td>Laufenstrasse</td>\n",
       "      <td>2020-04-18 05:41:57+02:00</td>\n",
       "      <td>2020-04-18</td>\n",
       "      <td>5</td>\n",
       "      <td>41</td>\n",
       "      <td>47.5935204569,7.59419060652</td>\n",
       "      <td>47.59352</td>\n",
       "      <td>7.594191</td>\n",
       "      <td>13.2700</td>\n",
       "      <td>0.0</td>\n",
       "      <td>0.0</td>\n",
       "      <td>0.0</td>\n",
       "    </tr>\n",
       "    <tr>\n",
       "      <th>3</th>\n",
       "      <td>3</td>\n",
       "      <td>0340018F</td>\n",
       "      <td>Areal Wolf (Mast 7)</td>\n",
       "      <td>2020-04-20 11:49:23+02:00</td>\n",
       "      <td>2020-04-20</td>\n",
       "      <td>11</td>\n",
       "      <td>49</td>\n",
       "      <td>47.54245,7.61357</td>\n",
       "      <td>47.54245</td>\n",
       "      <td>7.613570</td>\n",
       "      <td>17.7100</td>\n",
       "      <td>0.0</td>\n",
       "      <td>0.0</td>\n",
       "      <td>0.0</td>\n",
       "    </tr>\n",
       "    <tr>\n",
       "      <th>4</th>\n",
       "      <td>4</td>\n",
       "      <td>034001AD</td>\n",
       "      <td>Areal Wolf (Mast 6)</td>\n",
       "      <td>2020-04-20 11:50:09+02:00</td>\n",
       "      <td>2020-04-20</td>\n",
       "      <td>11</td>\n",
       "      <td>50</td>\n",
       "      <td>47.54431,7.60302</td>\n",
       "      <td>47.54431</td>\n",
       "      <td>7.603020</td>\n",
       "      <td>16.7150</td>\n",
       "      <td>0.0</td>\n",
       "      <td>0.0</td>\n",
       "      <td>0.0</td>\n",
       "    </tr>\n",
       "  </tbody>\n",
       "</table>\n",
       "</div>"
      ],
      "text/plain": [
       "   Unnamed: 0 Station-ID                 Name                Zeitstempel  \\\n",
       "0           0   034003AA           Goetheanum  2020-04-02 08:39:53+02:00   \n",
       "1           1   03400395   Hegenheimermattweg  2020-04-16 04:49:29+02:00   \n",
       "2           2   0340997E        Laufenstrasse  2020-04-18 05:41:57+02:00   \n",
       "3           3   0340018F  Areal Wolf (Mast 7)  2020-04-20 11:49:23+02:00   \n",
       "4           4   034001AD  Areal Wolf (Mast 6)  2020-04-20 11:50:09+02:00   \n",
       "\n",
       "        Datum  Stunde  Minute                  Koordinaten  Breitengrad  \\\n",
       "0  2020-04-02       8      39             47.53934,7.60146     47.53934   \n",
       "1  2020-04-16       4      49             47.57551,7.58309     47.57551   \n",
       "2  2020-04-18       5      41  47.5935204569,7.59419060652     47.59352   \n",
       "3  2020-04-20      11      49             47.54245,7.61357     47.54245   \n",
       "4  2020-04-20      11      50             47.54431,7.60302     47.54431   \n",
       "\n",
       "   Längengrad  Lufttemperatur  Regen in 1 h  Regen in 24 h  Regen in 48 h  \n",
       "0    7.601460         15.7400           0.0            0.0            0.6  \n",
       "1    7.583090          6.6333           0.0            0.0            0.0  \n",
       "2    7.594191         13.2700           0.0            0.0            0.0  \n",
       "3    7.613570         17.7100           0.0            0.0            0.0  \n",
       "4    7.603020         16.7150           0.0            0.0            0.0  "
      ]
     },
     "execution_count": 3,
     "metadata": {},
     "output_type": "execute_result"
    }
   ],
   "source": [
    "df.head()"
   ]
  },
  {
   "cell_type": "code",
   "execution_count": 5,
   "id": "dd4af0ae",
   "metadata": {},
   "outputs": [
    {
     "data": {
      "text/plain": [
       "True"
      ]
     },
     "execution_count": 5,
     "metadata": {},
     "output_type": "execute_result"
    }
   ],
   "source": [
    "\"Datum\" in df.columns"
   ]
  },
  {
   "cell_type": "code",
   "execution_count": null,
   "id": "280a504c",
   "metadata": {},
   "outputs": [],
   "source": []
  }
 ],
 "metadata": {
  "kernelspec": {
   "display_name": "Python 3 (ipykernel)",
   "language": "python",
   "name": "python3"
  },
  "language_info": {
   "codemirror_mode": {
    "name": "ipython",
    "version": 3
   },
   "file_extension": ".py",
   "mimetype": "text/x-python",
   "name": "python",
   "nbconvert_exporter": "python",
   "pygments_lexer": "ipython3",
   "version": "3.9.7"
  }
 },
 "nbformat": 4,
 "nbformat_minor": 5
}

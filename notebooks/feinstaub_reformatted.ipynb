{
 "cells": [
  {
   "cell_type": "code",
   "execution_count": 1,
   "id": "8052f031",
   "metadata": {},
   "outputs": [],
   "source": [
    "import pandas as pd\n",
    "import numpy as np\n",
    "import datetime as dt"
   ]
  },
  {
   "cell_type": "code",
   "execution_count": 2,
   "id": "e3f30ef1",
   "metadata": {},
   "outputs": [],
   "source": [
    "fein = pd.read_csv(\"datasets/feinstaub.csv\", delimiter=\";\")"
   ]
  },
  {
   "cell_type": "code",
   "execution_count": 3,
   "id": "cf37f432",
   "metadata": {},
   "outputs": [
    {
     "data": {
      "text/html": [
       "<div>\n",
       "<style scoped>\n",
       "    .dataframe tbody tr th:only-of-type {\n",
       "        vertical-align: middle;\n",
       "    }\n",
       "\n",
       "    .dataframe tbody tr th {\n",
       "        vertical-align: top;\n",
       "    }\n",
       "\n",
       "    .dataframe thead th {\n",
       "        text-align: right;\n",
       "    }\n",
       "</style>\n",
       "<table border=\"1\" class=\"dataframe\">\n",
       "  <thead>\n",
       "    <tr style=\"text-align: right;\">\n",
       "      <th></th>\n",
       "      <th>Zeitstempel</th>\n",
       "      <th>PM2.5</th>\n",
       "      <th>Station Name</th>\n",
       "      <th>Station Koordinaten</th>\n",
       "      <th>Station ID</th>\n",
       "    </tr>\n",
       "  </thead>\n",
       "  <tbody>\n",
       "    <tr>\n",
       "      <th>0</th>\n",
       "      <td>2021-07-28T14:00:00+02:00</td>\n",
       "      <td>4.6</td>\n",
       "      <td>Basel Erlenparkweg 55 (Lange Erlen)</td>\n",
       "      <td>47.5747593107,7.6058294407</td>\n",
       "      <td>sep40a5-0c272b</td>\n",
       "    </tr>\n",
       "    <tr>\n",
       "      <th>1</th>\n",
       "      <td>2021-07-28T12:30:00+02:00</td>\n",
       "      <td>4.7</td>\n",
       "      <td>Basel Erlenparkweg 55 (Lange Erlen)</td>\n",
       "      <td>47.5747593107,7.6058294407</td>\n",
       "      <td>sep40a5-0c272b</td>\n",
       "    </tr>\n",
       "    <tr>\n",
       "      <th>2</th>\n",
       "      <td>2021-07-28T11:30:00+02:00</td>\n",
       "      <td>5.0</td>\n",
       "      <td>Basel Erlenparkweg 55 (Lange Erlen)</td>\n",
       "      <td>47.5747593107,7.6058294407</td>\n",
       "      <td>sep40a5-0c272b</td>\n",
       "    </tr>\n",
       "    <tr>\n",
       "      <th>3</th>\n",
       "      <td>2021-07-28T09:00:00+02:00</td>\n",
       "      <td>7.7</td>\n",
       "      <td>Basel Erlenparkweg 55 (Lange Erlen)</td>\n",
       "      <td>47.5747593107,7.6058294407</td>\n",
       "      <td>sep40a5-0c272b</td>\n",
       "    </tr>\n",
       "    <tr>\n",
       "      <th>4</th>\n",
       "      <td>2021-07-28T08:30:00+02:00</td>\n",
       "      <td>7.8</td>\n",
       "      <td>Basel Erlenparkweg 55 (Lange Erlen)</td>\n",
       "      <td>47.5747593107,7.6058294407</td>\n",
       "      <td>sep40a5-0c272b</td>\n",
       "    </tr>\n",
       "  </tbody>\n",
       "</table>\n",
       "</div>"
      ],
      "text/plain": [
       "                 Zeitstempel  PM2.5                         Station Name  \\\n",
       "0  2021-07-28T14:00:00+02:00    4.6  Basel Erlenparkweg 55 (Lange Erlen)   \n",
       "1  2021-07-28T12:30:00+02:00    4.7  Basel Erlenparkweg 55 (Lange Erlen)   \n",
       "2  2021-07-28T11:30:00+02:00    5.0  Basel Erlenparkweg 55 (Lange Erlen)   \n",
       "3  2021-07-28T09:00:00+02:00    7.7  Basel Erlenparkweg 55 (Lange Erlen)   \n",
       "4  2021-07-28T08:30:00+02:00    7.8  Basel Erlenparkweg 55 (Lange Erlen)   \n",
       "\n",
       "          Station Koordinaten      Station ID  \n",
       "0  47.5747593107,7.6058294407  sep40a5-0c272b  \n",
       "1  47.5747593107,7.6058294407  sep40a5-0c272b  \n",
       "2  47.5747593107,7.6058294407  sep40a5-0c272b  \n",
       "3  47.5747593107,7.6058294407  sep40a5-0c272b  \n",
       "4  47.5747593107,7.6058294407  sep40a5-0c272b  "
      ]
     },
     "execution_count": 3,
     "metadata": {},
     "output_type": "execute_result"
    }
   ],
   "source": [
    "fein.head()"
   ]
  },
  {
   "cell_type": "code",
   "execution_count": 4,
   "id": "c427bd28",
   "metadata": {},
   "outputs": [
    {
     "data": {
      "text/plain": [
       "'2021-11-10T11:30:00+01:00'"
      ]
     },
     "execution_count": 4,
     "metadata": {},
     "output_type": "execute_result"
    }
   ],
   "source": [
    "fein.Zeitstempel.max()"
   ]
  },
  {
   "cell_type": "code",
   "execution_count": 5,
   "id": "87ad69a5",
   "metadata": {},
   "outputs": [
    {
     "data": {
      "text/plain": [
       "'2019-11-06T00:30:00+01:00'"
      ]
     },
     "execution_count": 5,
     "metadata": {},
     "output_type": "execute_result"
    }
   ],
   "source": [
    "fein.Zeitstempel.min()"
   ]
  },
  {
   "cell_type": "code",
   "execution_count": 5,
   "id": "9af76136",
   "metadata": {},
   "outputs": [],
   "source": [
    "time = dt.datetime.fromisoformat(fein.Zeitstempel[0])"
   ]
  },
  {
   "cell_type": "code",
   "execution_count": 6,
   "id": "aee04009",
   "metadata": {},
   "outputs": [
    {
     "data": {
      "text/plain": [
       "datetime.datetime(2021, 7, 28, 14, 0, tzinfo=datetime.timezone(datetime.timedelta(seconds=7200)))"
      ]
     },
     "execution_count": 6,
     "metadata": {},
     "output_type": "execute_result"
    }
   ],
   "source": [
    "time"
   ]
  },
  {
   "cell_type": "code",
   "execution_count": 7,
   "id": "89568477",
   "metadata": {},
   "outputs": [],
   "source": [
    "fein_formatted = fein"
   ]
  },
  {
   "cell_type": "code",
   "execution_count": 8,
   "id": "80ace454",
   "metadata": {},
   "outputs": [
    {
     "data": {
      "text/html": [
       "<div>\n",
       "<style scoped>\n",
       "    .dataframe tbody tr th:only-of-type {\n",
       "        vertical-align: middle;\n",
       "    }\n",
       "\n",
       "    .dataframe tbody tr th {\n",
       "        vertical-align: top;\n",
       "    }\n",
       "\n",
       "    .dataframe thead th {\n",
       "        text-align: right;\n",
       "    }\n",
       "</style>\n",
       "<table border=\"1\" class=\"dataframe\">\n",
       "  <thead>\n",
       "    <tr style=\"text-align: right;\">\n",
       "      <th></th>\n",
       "      <th>Zeitstempel</th>\n",
       "      <th>PM2.5</th>\n",
       "      <th>Station Name</th>\n",
       "      <th>Station Koordinaten</th>\n",
       "      <th>Station ID</th>\n",
       "    </tr>\n",
       "  </thead>\n",
       "  <tbody>\n",
       "    <tr>\n",
       "      <th>0</th>\n",
       "      <td>2021-07-28T14:00:00+02:00</td>\n",
       "      <td>4.6</td>\n",
       "      <td>Basel Erlenparkweg 55 (Lange Erlen)</td>\n",
       "      <td>47.5747593107,7.6058294407</td>\n",
       "      <td>sep40a5-0c272b</td>\n",
       "    </tr>\n",
       "    <tr>\n",
       "      <th>1</th>\n",
       "      <td>2021-07-28T12:30:00+02:00</td>\n",
       "      <td>4.7</td>\n",
       "      <td>Basel Erlenparkweg 55 (Lange Erlen)</td>\n",
       "      <td>47.5747593107,7.6058294407</td>\n",
       "      <td>sep40a5-0c272b</td>\n",
       "    </tr>\n",
       "    <tr>\n",
       "      <th>2</th>\n",
       "      <td>2021-07-28T11:30:00+02:00</td>\n",
       "      <td>5.0</td>\n",
       "      <td>Basel Erlenparkweg 55 (Lange Erlen)</td>\n",
       "      <td>47.5747593107,7.6058294407</td>\n",
       "      <td>sep40a5-0c272b</td>\n",
       "    </tr>\n",
       "    <tr>\n",
       "      <th>3</th>\n",
       "      <td>2021-07-28T09:00:00+02:00</td>\n",
       "      <td>7.7</td>\n",
       "      <td>Basel Erlenparkweg 55 (Lange Erlen)</td>\n",
       "      <td>47.5747593107,7.6058294407</td>\n",
       "      <td>sep40a5-0c272b</td>\n",
       "    </tr>\n",
       "    <tr>\n",
       "      <th>4</th>\n",
       "      <td>2021-07-28T08:30:00+02:00</td>\n",
       "      <td>7.8</td>\n",
       "      <td>Basel Erlenparkweg 55 (Lange Erlen)</td>\n",
       "      <td>47.5747593107,7.6058294407</td>\n",
       "      <td>sep40a5-0c272b</td>\n",
       "    </tr>\n",
       "  </tbody>\n",
       "</table>\n",
       "</div>"
      ],
      "text/plain": [
       "                 Zeitstempel  PM2.5                         Station Name  \\\n",
       "0  2021-07-28T14:00:00+02:00    4.6  Basel Erlenparkweg 55 (Lange Erlen)   \n",
       "1  2021-07-28T12:30:00+02:00    4.7  Basel Erlenparkweg 55 (Lange Erlen)   \n",
       "2  2021-07-28T11:30:00+02:00    5.0  Basel Erlenparkweg 55 (Lange Erlen)   \n",
       "3  2021-07-28T09:00:00+02:00    7.7  Basel Erlenparkweg 55 (Lange Erlen)   \n",
       "4  2021-07-28T08:30:00+02:00    7.8  Basel Erlenparkweg 55 (Lange Erlen)   \n",
       "\n",
       "          Station Koordinaten      Station ID  \n",
       "0  47.5747593107,7.6058294407  sep40a5-0c272b  \n",
       "1  47.5747593107,7.6058294407  sep40a5-0c272b  \n",
       "2  47.5747593107,7.6058294407  sep40a5-0c272b  \n",
       "3  47.5747593107,7.6058294407  sep40a5-0c272b  \n",
       "4  47.5747593107,7.6058294407  sep40a5-0c272b  "
      ]
     },
     "execution_count": 8,
     "metadata": {},
     "output_type": "execute_result"
    }
   ],
   "source": [
    "fein_formatted.head()"
   ]
  },
  {
   "cell_type": "code",
   "execution_count": 9,
   "id": "66027e9e",
   "metadata": {},
   "outputs": [],
   "source": [
    "fein_formatted[\"Zeitstempel\"] = fein_formatted[\"Zeitstempel\"].apply(lambda entry: dt.datetime.fromisoformat(entry))"
   ]
  },
  {
   "cell_type": "code",
   "execution_count": 10,
   "id": "3fe08ddf",
   "metadata": {},
   "outputs": [
    {
     "data": {
      "text/html": [
       "<div>\n",
       "<style scoped>\n",
       "    .dataframe tbody tr th:only-of-type {\n",
       "        vertical-align: middle;\n",
       "    }\n",
       "\n",
       "    .dataframe tbody tr th {\n",
       "        vertical-align: top;\n",
       "    }\n",
       "\n",
       "    .dataframe thead th {\n",
       "        text-align: right;\n",
       "    }\n",
       "</style>\n",
       "<table border=\"1\" class=\"dataframe\">\n",
       "  <thead>\n",
       "    <tr style=\"text-align: right;\">\n",
       "      <th></th>\n",
       "      <th>Zeitstempel</th>\n",
       "      <th>PM2.5</th>\n",
       "      <th>Station Name</th>\n",
       "      <th>Station Koordinaten</th>\n",
       "      <th>Station ID</th>\n",
       "    </tr>\n",
       "  </thead>\n",
       "  <tbody>\n",
       "    <tr>\n",
       "      <th>0</th>\n",
       "      <td>2021-07-28 14:00:00+02:00</td>\n",
       "      <td>4.6</td>\n",
       "      <td>Basel Erlenparkweg 55 (Lange Erlen)</td>\n",
       "      <td>47.5747593107,7.6058294407</td>\n",
       "      <td>sep40a5-0c272b</td>\n",
       "    </tr>\n",
       "    <tr>\n",
       "      <th>1</th>\n",
       "      <td>2021-07-28 12:30:00+02:00</td>\n",
       "      <td>4.7</td>\n",
       "      <td>Basel Erlenparkweg 55 (Lange Erlen)</td>\n",
       "      <td>47.5747593107,7.6058294407</td>\n",
       "      <td>sep40a5-0c272b</td>\n",
       "    </tr>\n",
       "    <tr>\n",
       "      <th>2</th>\n",
       "      <td>2021-07-28 11:30:00+02:00</td>\n",
       "      <td>5.0</td>\n",
       "      <td>Basel Erlenparkweg 55 (Lange Erlen)</td>\n",
       "      <td>47.5747593107,7.6058294407</td>\n",
       "      <td>sep40a5-0c272b</td>\n",
       "    </tr>\n",
       "    <tr>\n",
       "      <th>3</th>\n",
       "      <td>2021-07-28 09:00:00+02:00</td>\n",
       "      <td>7.7</td>\n",
       "      <td>Basel Erlenparkweg 55 (Lange Erlen)</td>\n",
       "      <td>47.5747593107,7.6058294407</td>\n",
       "      <td>sep40a5-0c272b</td>\n",
       "    </tr>\n",
       "    <tr>\n",
       "      <th>4</th>\n",
       "      <td>2021-07-28 08:30:00+02:00</td>\n",
       "      <td>7.8</td>\n",
       "      <td>Basel Erlenparkweg 55 (Lange Erlen)</td>\n",
       "      <td>47.5747593107,7.6058294407</td>\n",
       "      <td>sep40a5-0c272b</td>\n",
       "    </tr>\n",
       "  </tbody>\n",
       "</table>\n",
       "</div>"
      ],
      "text/plain": [
       "                 Zeitstempel  PM2.5                         Station Name  \\\n",
       "0  2021-07-28 14:00:00+02:00    4.6  Basel Erlenparkweg 55 (Lange Erlen)   \n",
       "1  2021-07-28 12:30:00+02:00    4.7  Basel Erlenparkweg 55 (Lange Erlen)   \n",
       "2  2021-07-28 11:30:00+02:00    5.0  Basel Erlenparkweg 55 (Lange Erlen)   \n",
       "3  2021-07-28 09:00:00+02:00    7.7  Basel Erlenparkweg 55 (Lange Erlen)   \n",
       "4  2021-07-28 08:30:00+02:00    7.8  Basel Erlenparkweg 55 (Lange Erlen)   \n",
       "\n",
       "          Station Koordinaten      Station ID  \n",
       "0  47.5747593107,7.6058294407  sep40a5-0c272b  \n",
       "1  47.5747593107,7.6058294407  sep40a5-0c272b  \n",
       "2  47.5747593107,7.6058294407  sep40a5-0c272b  \n",
       "3  47.5747593107,7.6058294407  sep40a5-0c272b  \n",
       "4  47.5747593107,7.6058294407  sep40a5-0c272b  "
      ]
     },
     "execution_count": 10,
     "metadata": {},
     "output_type": "execute_result"
    }
   ],
   "source": [
    "fein_formatted.head()"
   ]
  },
  {
   "cell_type": "code",
   "execution_count": 11,
   "id": "bdbe8e46",
   "metadata": {},
   "outputs": [
    {
     "data": {
      "text/plain": [
       "'47.5747593107'"
      ]
     },
     "execution_count": 11,
     "metadata": {},
     "output_type": "execute_result"
    }
   ],
   "source": [
    "fein_formatted[\"Station Koordinaten\"][0].split(\",\")[0]"
   ]
  },
  {
   "cell_type": "code",
   "execution_count": 12,
   "id": "8a2e049d",
   "metadata": {},
   "outputs": [],
   "source": [
    "fein_formatted[\"longitude\"] = fein_formatted[\"Station Koordinaten\"].apply(lambda entry: entry.split(\",\")[0])"
   ]
  },
  {
   "cell_type": "code",
   "execution_count": 13,
   "id": "f951c93f",
   "metadata": {},
   "outputs": [],
   "source": [
    "fein_formatted[\"latitude\"] = fein_formatted[\"Station Koordinaten\"].apply(lambda entry: entry.split(\",\")[1])"
   ]
  },
  {
   "cell_type": "code",
   "execution_count": 14,
   "id": "6165c47e",
   "metadata": {},
   "outputs": [
    {
     "data": {
      "text/html": [
       "<div>\n",
       "<style scoped>\n",
       "    .dataframe tbody tr th:only-of-type {\n",
       "        vertical-align: middle;\n",
       "    }\n",
       "\n",
       "    .dataframe tbody tr th {\n",
       "        vertical-align: top;\n",
       "    }\n",
       "\n",
       "    .dataframe thead th {\n",
       "        text-align: right;\n",
       "    }\n",
       "</style>\n",
       "<table border=\"1\" class=\"dataframe\">\n",
       "  <thead>\n",
       "    <tr style=\"text-align: right;\">\n",
       "      <th></th>\n",
       "      <th>Zeitstempel</th>\n",
       "      <th>PM2.5</th>\n",
       "      <th>Station Name</th>\n",
       "      <th>Station Koordinaten</th>\n",
       "      <th>Station ID</th>\n",
       "      <th>longitude</th>\n",
       "      <th>latitude</th>\n",
       "    </tr>\n",
       "  </thead>\n",
       "  <tbody>\n",
       "    <tr>\n",
       "      <th>0</th>\n",
       "      <td>2021-07-28 14:00:00+02:00</td>\n",
       "      <td>4.6</td>\n",
       "      <td>Basel Erlenparkweg 55 (Lange Erlen)</td>\n",
       "      <td>47.5747593107,7.6058294407</td>\n",
       "      <td>sep40a5-0c272b</td>\n",
       "      <td>47.5747593107</td>\n",
       "      <td>7.6058294407</td>\n",
       "    </tr>\n",
       "    <tr>\n",
       "      <th>1</th>\n",
       "      <td>2021-07-28 12:30:00+02:00</td>\n",
       "      <td>4.7</td>\n",
       "      <td>Basel Erlenparkweg 55 (Lange Erlen)</td>\n",
       "      <td>47.5747593107,7.6058294407</td>\n",
       "      <td>sep40a5-0c272b</td>\n",
       "      <td>47.5747593107</td>\n",
       "      <td>7.6058294407</td>\n",
       "    </tr>\n",
       "    <tr>\n",
       "      <th>2</th>\n",
       "      <td>2021-07-28 11:30:00+02:00</td>\n",
       "      <td>5.0</td>\n",
       "      <td>Basel Erlenparkweg 55 (Lange Erlen)</td>\n",
       "      <td>47.5747593107,7.6058294407</td>\n",
       "      <td>sep40a5-0c272b</td>\n",
       "      <td>47.5747593107</td>\n",
       "      <td>7.6058294407</td>\n",
       "    </tr>\n",
       "    <tr>\n",
       "      <th>3</th>\n",
       "      <td>2021-07-28 09:00:00+02:00</td>\n",
       "      <td>7.7</td>\n",
       "      <td>Basel Erlenparkweg 55 (Lange Erlen)</td>\n",
       "      <td>47.5747593107,7.6058294407</td>\n",
       "      <td>sep40a5-0c272b</td>\n",
       "      <td>47.5747593107</td>\n",
       "      <td>7.6058294407</td>\n",
       "    </tr>\n",
       "    <tr>\n",
       "      <th>4</th>\n",
       "      <td>2021-07-28 08:30:00+02:00</td>\n",
       "      <td>7.8</td>\n",
       "      <td>Basel Erlenparkweg 55 (Lange Erlen)</td>\n",
       "      <td>47.5747593107,7.6058294407</td>\n",
       "      <td>sep40a5-0c272b</td>\n",
       "      <td>47.5747593107</td>\n",
       "      <td>7.6058294407</td>\n",
       "    </tr>\n",
       "  </tbody>\n",
       "</table>\n",
       "</div>"
      ],
      "text/plain": [
       "                 Zeitstempel  PM2.5                         Station Name  \\\n",
       "0  2021-07-28 14:00:00+02:00    4.6  Basel Erlenparkweg 55 (Lange Erlen)   \n",
       "1  2021-07-28 12:30:00+02:00    4.7  Basel Erlenparkweg 55 (Lange Erlen)   \n",
       "2  2021-07-28 11:30:00+02:00    5.0  Basel Erlenparkweg 55 (Lange Erlen)   \n",
       "3  2021-07-28 09:00:00+02:00    7.7  Basel Erlenparkweg 55 (Lange Erlen)   \n",
       "4  2021-07-28 08:30:00+02:00    7.8  Basel Erlenparkweg 55 (Lange Erlen)   \n",
       "\n",
       "          Station Koordinaten      Station ID      longitude      latitude  \n",
       "0  47.5747593107,7.6058294407  sep40a5-0c272b  47.5747593107  7.6058294407  \n",
       "1  47.5747593107,7.6058294407  sep40a5-0c272b  47.5747593107  7.6058294407  \n",
       "2  47.5747593107,7.6058294407  sep40a5-0c272b  47.5747593107  7.6058294407  \n",
       "3  47.5747593107,7.6058294407  sep40a5-0c272b  47.5747593107  7.6058294407  \n",
       "4  47.5747593107,7.6058294407  sep40a5-0c272b  47.5747593107  7.6058294407  "
      ]
     },
     "execution_count": 14,
     "metadata": {},
     "output_type": "execute_result"
    }
   ],
   "source": [
    "fein_formatted.head()"
   ]
  },
  {
   "cell_type": "code",
   "execution_count": 15,
   "id": "92a8cb34",
   "metadata": {},
   "outputs": [],
   "source": [
    "fein_formatted[\"year\"] = fein_formatted[\"Zeitstempel\"].apply(lambda entry: entry.year)"
   ]
  },
  {
   "cell_type": "code",
   "execution_count": 16,
   "id": "0aa0cf2c",
   "metadata": {},
   "outputs": [],
   "source": [
    "fein_formatted[\"month\"] = fein_formatted[\"Zeitstempel\"].apply(lambda entry: entry.month)"
   ]
  },
  {
   "cell_type": "code",
   "execution_count": 17,
   "id": "bb64e436",
   "metadata": {},
   "outputs": [],
   "source": [
    "fein_formatted[\"day\"] = fein_formatted[\"Zeitstempel\"].apply(lambda entry: entry.day)"
   ]
  },
  {
   "cell_type": "code",
   "execution_count": 18,
   "id": "97c0284c",
   "metadata": {},
   "outputs": [],
   "source": [
    "fein_formatted[\"hour\"] = fein_formatted[\"Zeitstempel\"].apply(lambda entry: entry.hour)"
   ]
  },
  {
   "cell_type": "code",
   "execution_count": 19,
   "id": "565303f0",
   "metadata": {},
   "outputs": [],
   "source": [
    "fein_formatted[\"minute\"] = fein_formatted[\"Zeitstempel\"].apply(lambda entry: entry.minute)"
   ]
  },
  {
   "cell_type": "code",
   "execution_count": 20,
   "id": "e48eba08",
   "metadata": {},
   "outputs": [
    {
     "data": {
      "text/html": [
       "<div>\n",
       "<style scoped>\n",
       "    .dataframe tbody tr th:only-of-type {\n",
       "        vertical-align: middle;\n",
       "    }\n",
       "\n",
       "    .dataframe tbody tr th {\n",
       "        vertical-align: top;\n",
       "    }\n",
       "\n",
       "    .dataframe thead th {\n",
       "        text-align: right;\n",
       "    }\n",
       "</style>\n",
       "<table border=\"1\" class=\"dataframe\">\n",
       "  <thead>\n",
       "    <tr style=\"text-align: right;\">\n",
       "      <th></th>\n",
       "      <th>Zeitstempel</th>\n",
       "      <th>PM2.5</th>\n",
       "      <th>Station Name</th>\n",
       "      <th>Station Koordinaten</th>\n",
       "      <th>Station ID</th>\n",
       "      <th>longitude</th>\n",
       "      <th>latitude</th>\n",
       "      <th>year</th>\n",
       "      <th>month</th>\n",
       "      <th>day</th>\n",
       "      <th>hour</th>\n",
       "      <th>minute</th>\n",
       "    </tr>\n",
       "  </thead>\n",
       "  <tbody>\n",
       "    <tr>\n",
       "      <th>0</th>\n",
       "      <td>2021-07-28 14:00:00+02:00</td>\n",
       "      <td>4.6</td>\n",
       "      <td>Basel Erlenparkweg 55 (Lange Erlen)</td>\n",
       "      <td>47.5747593107,7.6058294407</td>\n",
       "      <td>sep40a5-0c272b</td>\n",
       "      <td>47.5747593107</td>\n",
       "      <td>7.6058294407</td>\n",
       "      <td>2021</td>\n",
       "      <td>7</td>\n",
       "      <td>28</td>\n",
       "      <td>14</td>\n",
       "      <td>0</td>\n",
       "    </tr>\n",
       "    <tr>\n",
       "      <th>1</th>\n",
       "      <td>2021-07-28 12:30:00+02:00</td>\n",
       "      <td>4.7</td>\n",
       "      <td>Basel Erlenparkweg 55 (Lange Erlen)</td>\n",
       "      <td>47.5747593107,7.6058294407</td>\n",
       "      <td>sep40a5-0c272b</td>\n",
       "      <td>47.5747593107</td>\n",
       "      <td>7.6058294407</td>\n",
       "      <td>2021</td>\n",
       "      <td>7</td>\n",
       "      <td>28</td>\n",
       "      <td>12</td>\n",
       "      <td>30</td>\n",
       "    </tr>\n",
       "    <tr>\n",
       "      <th>2</th>\n",
       "      <td>2021-07-28 11:30:00+02:00</td>\n",
       "      <td>5.0</td>\n",
       "      <td>Basel Erlenparkweg 55 (Lange Erlen)</td>\n",
       "      <td>47.5747593107,7.6058294407</td>\n",
       "      <td>sep40a5-0c272b</td>\n",
       "      <td>47.5747593107</td>\n",
       "      <td>7.6058294407</td>\n",
       "      <td>2021</td>\n",
       "      <td>7</td>\n",
       "      <td>28</td>\n",
       "      <td>11</td>\n",
       "      <td>30</td>\n",
       "    </tr>\n",
       "    <tr>\n",
       "      <th>3</th>\n",
       "      <td>2021-07-28 09:00:00+02:00</td>\n",
       "      <td>7.7</td>\n",
       "      <td>Basel Erlenparkweg 55 (Lange Erlen)</td>\n",
       "      <td>47.5747593107,7.6058294407</td>\n",
       "      <td>sep40a5-0c272b</td>\n",
       "      <td>47.5747593107</td>\n",
       "      <td>7.6058294407</td>\n",
       "      <td>2021</td>\n",
       "      <td>7</td>\n",
       "      <td>28</td>\n",
       "      <td>9</td>\n",
       "      <td>0</td>\n",
       "    </tr>\n",
       "    <tr>\n",
       "      <th>4</th>\n",
       "      <td>2021-07-28 08:30:00+02:00</td>\n",
       "      <td>7.8</td>\n",
       "      <td>Basel Erlenparkweg 55 (Lange Erlen)</td>\n",
       "      <td>47.5747593107,7.6058294407</td>\n",
       "      <td>sep40a5-0c272b</td>\n",
       "      <td>47.5747593107</td>\n",
       "      <td>7.6058294407</td>\n",
       "      <td>2021</td>\n",
       "      <td>7</td>\n",
       "      <td>28</td>\n",
       "      <td>8</td>\n",
       "      <td>30</td>\n",
       "    </tr>\n",
       "  </tbody>\n",
       "</table>\n",
       "</div>"
      ],
      "text/plain": [
       "                 Zeitstempel  PM2.5                         Station Name  \\\n",
       "0  2021-07-28 14:00:00+02:00    4.6  Basel Erlenparkweg 55 (Lange Erlen)   \n",
       "1  2021-07-28 12:30:00+02:00    4.7  Basel Erlenparkweg 55 (Lange Erlen)   \n",
       "2  2021-07-28 11:30:00+02:00    5.0  Basel Erlenparkweg 55 (Lange Erlen)   \n",
       "3  2021-07-28 09:00:00+02:00    7.7  Basel Erlenparkweg 55 (Lange Erlen)   \n",
       "4  2021-07-28 08:30:00+02:00    7.8  Basel Erlenparkweg 55 (Lange Erlen)   \n",
       "\n",
       "          Station Koordinaten      Station ID      longitude      latitude  \\\n",
       "0  47.5747593107,7.6058294407  sep40a5-0c272b  47.5747593107  7.6058294407   \n",
       "1  47.5747593107,7.6058294407  sep40a5-0c272b  47.5747593107  7.6058294407   \n",
       "2  47.5747593107,7.6058294407  sep40a5-0c272b  47.5747593107  7.6058294407   \n",
       "3  47.5747593107,7.6058294407  sep40a5-0c272b  47.5747593107  7.6058294407   \n",
       "4  47.5747593107,7.6058294407  sep40a5-0c272b  47.5747593107  7.6058294407   \n",
       "\n",
       "   year  month  day  hour  minute  \n",
       "0  2021      7   28    14       0  \n",
       "1  2021      7   28    12      30  \n",
       "2  2021      7   28    11      30  \n",
       "3  2021      7   28     9       0  \n",
       "4  2021      7   28     8      30  "
      ]
     },
     "execution_count": 20,
     "metadata": {},
     "output_type": "execute_result"
    }
   ],
   "source": [
    "fein_formatted.head()"
   ]
  },
  {
   "cell_type": "code",
   "execution_count": 22,
   "id": "56a71f76",
   "metadata": {},
   "outputs": [],
   "source": [
    "fein_formatted.to_csv(\"datasets/feinstaub_reformatted.csv\", index=False)"
   ]
  },
  {
   "cell_type": "code",
   "execution_count": null,
   "id": "0235fd2c",
   "metadata": {},
   "outputs": [],
   "source": []
  }
 ],
 "metadata": {
  "kernelspec": {
   "display_name": "Python 3 (ipykernel)",
   "language": "python",
   "name": "python3"
  },
  "language_info": {
   "codemirror_mode": {
    "name": "ipython",
    "version": 3
   },
   "file_extension": ".py",
   "mimetype": "text/x-python",
   "name": "python",
   "nbconvert_exporter": "python",
   "pygments_lexer": "ipython3",
   "version": "3.9.7"
  }
 },
 "nbformat": 4,
 "nbformat_minor": 5
}
